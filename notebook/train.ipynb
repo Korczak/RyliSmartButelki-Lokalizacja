{
 "cells": [
  {
   "cell_type": "code",
   "execution_count": 1,
   "metadata": {},
   "outputs": [],
   "source": [
    "import sys\n",
    "sys.path.append(\"..\")"
   ]
  },
  {
   "cell_type": "code",
   "execution_count": 4,
   "metadata": {},
   "outputs": [],
   "source": [
    "from utils import DataGenerator, read_annotation_lines\n",
    "from models import Yolov4\n",
    "from config import yolo_config"
   ]
  },
  {
   "cell_type": "code",
   "execution_count": null,
   "metadata": {},
   "outputs": [
    {
     "name": "stdout",
     "output_type": "stream",
     "text": [
      "nms iou: 0.413 score: 0.3\n",
      "Epoch 1/10000\n",
      "8/8 [==============================] - 1721s 163s/step - loss: 75484.1641 - val_loss: 110288.3594\n",
      "Epoch 2/10000\n",
      "2/8 [======>.......................] - ETA: 26:34 - loss: 21020.1738"
     ]
    }
   ],
   "source": [
    "train_lines, val_lines = read_annotation_lines('../dataset/train_annotations/butelka.txt', test_size=0.1)\n",
    "FOLDER_PATH = '../dataset/train_images_resized/'\n",
    "class_name_path = '../class_names/butelka_classes.txt'\n",
    "data_gen_train = DataGenerator(train_lines, class_name_path, FOLDER_PATH)\n",
    "data_gen_val = DataGenerator(val_lines, class_name_path, FOLDER_PATH)\n",
    "\n",
    "model = Yolov4(weight_path=None, \n",
    "               class_name_path=class_name_path)\n",
    "\n",
    "model.fit(data_gen_train, \n",
    "          initial_epoch=0,\n",
    "          epochs=10000, \n",
    "          val_data_gen=data_gen_val,\n",
    "          callbacks=[])"
   ]
  },
  {
   "cell_type": "code",
   "execution_count": null,
   "metadata": {},
   "outputs": [],
   "source": []
  },
  {
   "cell_type": "code",
   "execution_count": null,
   "metadata": {},
   "outputs": [],
   "source": []
  }
 ],
 "metadata": {
  "colab": {
   "authorship_tag": "ABX9TyOi+1wkzoRXzgNQN7U2NBPg",
   "default_view": {},
   "name": "Untitled",
   "provenance": [],
   "views": {}
  },
  "kernelspec": {
   "display_name": "Python 3",
   "language": "python",
   "name": "python3"
  },
  "language_info": {
   "codemirror_mode": {
    "name": "ipython",
    "version": 3
   },
   "file_extension": ".py",
   "mimetype": "text/x-python",
   "name": "python",
   "nbconvert_exporter": "python",
   "pygments_lexer": "ipython3",
   "version": "3.8.10"
  }
 },
 "nbformat": 4,
 "nbformat_minor": 4
}
