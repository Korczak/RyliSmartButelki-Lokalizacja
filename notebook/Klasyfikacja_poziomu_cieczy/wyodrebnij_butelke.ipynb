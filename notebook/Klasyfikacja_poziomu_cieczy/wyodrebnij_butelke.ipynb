{
 "cells": [
  {
   "cell_type": "code",
   "execution_count": 1,
   "metadata": {},
   "outputs": [],
   "source": [
    "import xml.etree.ElementTree as ET\n",
    "import os\n",
    "from glob import glob\n",
    "import cv2"
   ]
  },
  {
   "cell_type": "code",
   "execution_count": 2,
   "metadata": {},
   "outputs": [],
   "source": [
    "XML_PATH = '../../dataset/butelka/adnotacje_butelki/'\n",
    "IMAGE_PATH = '../../dataset/butelka/butelka_z_tlem'\n",
    "\n",
    "#CLASSES_PATH = '../../class_names/butelka_classes.txt'\n",
    "DEST_PATH = '../../dataset/butelka/butelka_treningowe/'"
   ]
  },
  {
   "cell_type": "code",
   "execution_count": 3,
   "metadata": {},
   "outputs": [],
   "source": [
    "def convert_xmls(directory, num_files=20):\n",
    "    num_files_converted = 0\n",
    "    \n",
    "    try:\n",
    "        os.mkdir(os.path.join(DEST_PATH, directory))\n",
    "    except OSError as error:\n",
    "        print(error)    \n",
    "    \n",
    "    for path in glob(os.path.join(XML_PATH, directory, '*.xml')):\n",
    "        if(num_files_converted >= num_files):\n",
    "            break\n",
    "        in_file = open(path)\n",
    "\n",
    "        # Parse .xml file\n",
    "        tree = ET.parse(in_file)\n",
    "        root = tree.getroot()\n",
    "        # Write object information to .txt file\n",
    "        file_name = root.find('filename').text\n",
    "        print(file_name)\n",
    "        try:\n",
    "            obj = next(root.iter('object'))\n",
    "            cls = obj.find('name').text \n",
    "            xmlbox = obj.find('bndbox')\n",
    "            b = (int(xmlbox.find('xmin').text), int(xmlbox.find('ymin').text), int(xmlbox.find('xmax').text), int(xmlbox.find('ymax').text))\n",
    "            img = cv2.imread(os.path.join(IMAGE_PATH, directory, file_name), cv2.IMREAD_UNCHANGED)\n",
    "            img = img[b[1]:b[3], b[0]:b[2]]\n",
    "            cv2.imwrite(os.path.join(DEST_PATH, directory, file_name), img)\n",
    "        \n",
    "            num_files_converted = num_files_converted + 1\n",
    "        except Exception as error:\n",
    "            print(error)"
   ]
  },
  {
   "cell_type": "code",
   "execution_count": 4,
   "metadata": {},
   "outputs": [],
   "source": [
    "dirs = ['pelna', 'polowa', 'pusta']"
   ]
  },
  {
   "cell_type": "code",
   "execution_count": 5,
   "metadata": {},
   "outputs": [
    {
     "name": "stdout",
     "output_type": "stream",
     "text": [
      "[Errno 2] No such file or directory: '../../dataset/butelka/butelka_treningowe/pelna'\n",
      "[Errno 2] No such file or directory: '../../dataset/butelka/butelka_treningowe/polowa'\n",
      "[Errno 2] No such file or directory: '../../dataset/butelka/butelka_treningowe/pusta'\n"
     ]
    }
   ],
   "source": [
    "for dir in dirs:\n",
    "    convert_xmls(dir, 20)"
   ]
  },
  {
   "cell_type": "code",
   "execution_count": null,
   "metadata": {},
   "outputs": [],
   "source": []
  }
 ],
 "metadata": {
  "kernelspec": {
   "display_name": "Python 3 (ipykernel)",
   "language": "python",
   "name": "python3"
  },
  "language_info": {
   "codemirror_mode": {
    "name": "ipython",
    "version": 3
   },
   "file_extension": ".py",
   "mimetype": "text/x-python",
   "name": "python",
   "nbconvert_exporter": "python",
   "pygments_lexer": "ipython3",
   "version": "3.8.10"
  }
 },
 "nbformat": 4,
 "nbformat_minor": 2
}
