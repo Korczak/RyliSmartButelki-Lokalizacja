{
 "cells": [
  {
   "cell_type": "code",
   "execution_count": 5,
   "metadata": {},
   "outputs": [],
   "source": [
    "import xml.etree.ElementTree as ET\n",
    "import os\n",
    "from glob import glob\n",
    "import cv2"
   ]
  },
  {
   "cell_type": "code",
   "execution_count": 6,
   "metadata": {},
   "outputs": [],
   "source": [
    "XML_PATH = '../../dataset/butelka/adnotacje_butelki/'\n",
    "IMAGE_PATH = '../../dataset/butelka/butelka_z_tlem'\n",
    "\n",
    "#CLASSES_PATH = '../../class_names/butelka_classes.txt'\n",
    "DEST_PATH = '../../dataset/butelka/butelka_treningowe/'"
   ]
  },
  {
   "cell_type": "code",
   "execution_count": 10,
   "metadata": {},
   "outputs": [],
   "source": [
    "def convert_xmls(directory, num_files=20):\n",
    "    num_files_converted = 0\n",
    "    \n",
    "    try:\n",
    "        os.mkdir(os.path.join(DEST_PATH, directory))\n",
    "    except OSError as error:\n",
    "        print(error)    \n",
    "    \n",
    "    for path in glob(os.path.join(XML_PATH, directory, '*.xml')):\n",
    "        if(num_files_converted >= num_files):\n",
    "            break\n",
    "        in_file = open(path)\n",
    "\n",
    "        # Parse .xml file\n",
    "        tree = ET.parse(in_file)\n",
    "        root = tree.getroot()\n",
    "        # Write object information to .txt file\n",
    "        file_name = root.find('filename').text\n",
    "        print(file_name)\n",
    "        try:\n",
    "            obj = next(root.iter('object'))\n",
    "            cls = obj.find('name').text \n",
    "            xmlbox = obj.find('bndbox')\n",
    "            b = (int(xmlbox.find('xmin').text), int(xmlbox.find('ymin').text), int(xmlbox.find('xmax').text), int(xmlbox.find('ymax').text))\n",
    "            img = cv2.imread(os.path.join(IMAGE_PATH, directory, file_name), cv2.IMREAD_UNCHANGED)\n",
    "            img = img[b[1]:b[3], b[0]:b[2]]\n",
    "            cv2.imwrite(os.path.join(DEST_PATH, directory, file_name), img)\n",
    "        \n",
    "            num_files_converted = num_files_converted + 1\n",
    "        except Exception as error:\n",
    "            print(error)"
   ]
  },
  {
   "cell_type": "code",
   "execution_count": 11,
   "metadata": {},
   "outputs": [],
   "source": [
    "dirs = ['pelna', 'polowa', 'pusta']"
   ]
  },
  {
   "cell_type": "code",
   "execution_count": 12,
   "metadata": {},
   "outputs": [
    {
     "name": "stdout",
     "output_type": "stream",
     "text": [
      "[Errno 17] File exists: '../../dataset/butelka/butelka_treningowe/pelna'\n",
      "IMG_1033.JPG\n",
      "IMG_1013.JPG\n",
      "IMG_1037.JPG\n",
      "IMG_1040.JPG\n",
      "IMG_0980.JPG\n",
      "IMG_0994.JPG\n",
      "IMG_1008.JPG\n",
      "IMG_1020.JPG\n",
      "IMG_1021.JPG\n",
      "IMG_0995.JPG\n",
      "IMG_1038.JPG\n",
      "IMG_1018.JPG\n",
      "IMG_1058.JPG\n",
      "IMG_1031.JPG\n",
      "IMG_1017.JPG\n",
      "IMG_1057.JPG\n",
      "IMG_0993.JPG\n",
      "IMG_1030.JPG\n",
      "IMG_1028.JPG\n",
      "IMG_0989.JPG\n",
      "[Errno 17] File exists: '../../dataset/butelka/butelka_treningowe/polowa'\n",
      "IMG_0592.JPG\n",
      "IMG_0641.JPG\n",
      "IMG_0601.JPG\n",
      "IMG_0617.JPG\n",
      "IMG_0630.JPG\n",
      "IMG_0618.JPG\n",
      "IMG_0580.JPG\n",
      "IMG_0586.JPG\n",
      "IMG_0655.JPG\n",
      "IMG_0614.JPG\n",
      "IMG_0623.JPG\n",
      "IMG_0636.JPG\n",
      "IMG_0610.JPG\n",
      "IMG_0589.JPG\n",
      "IMG_0644.JPG\n",
      "IMG_0654.JPG\n",
      "IMG_0642.JPG\n",
      "IMG_0639.JPG\n",
      "IMG_0624.JPG\n",
      "IMG_0628.JPG\n",
      "[Errno 17] File exists: '../../dataset/butelka/butelka_treningowe/pusta'\n",
      "IMG_2244.JPG\n",
      "IMG_2231.JPG\n",
      "IMG_2216.JPG\n",
      "IMG_2222.JPG\n",
      "IMG_2230.JPG\n",
      "IMG_2236.JPG\n",
      "IMG_2242.JPG\n",
      "IMG_2229.JPG\n",
      "IMG_2225.JPG\n",
      "IMG_2205.JPG\n",
      "IMG_2255.JPG\n",
      "IMG_2202.JPG\n",
      "IMG_2182.JPG\n",
      "IMG_2219.JPG\n",
      "IMG_2239.JPG\n",
      "IMG_2233.JPG\n",
      "IMG_2232.JPG\n",
      "IMG_2190.JPG\n",
      "IMG_2217.JPG\n",
      "IMG_2223.JPG\n"
     ]
    }
   ],
   "source": [
    "for dir in dirs:\n",
    "    convert_xmls(dir, 20)"
   ]
  },
  {
   "cell_type": "code",
   "execution_count": null,
   "metadata": {},
   "outputs": [],
   "source": []
  }
 ],
 "metadata": {
  "kernelspec": {
   "display_name": "Python 3",
   "language": "python",
   "name": "python3"
  },
  "language_info": {
   "codemirror_mode": {
    "name": "ipython",
    "version": 3
   },
   "file_extension": ".py",
   "mimetype": "text/x-python",
   "name": "python",
   "nbconvert_exporter": "python",
   "pygments_lexer": "ipython3",
   "version": "3.8.10"
  }
 },
 "nbformat": 4,
 "nbformat_minor": 2
}
