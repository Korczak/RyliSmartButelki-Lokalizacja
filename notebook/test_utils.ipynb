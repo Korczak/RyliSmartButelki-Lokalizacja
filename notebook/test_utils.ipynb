{
 "cells": [
  {
   "cell_type": "code",
   "execution_count": null,
   "id": "c29c94c8",
   "metadata": {},
   "outputs": [],
   "source": [
    "from PIL import Image\n",
    "import matplotlib.pyplot as plt\n",
    "import numpy as np\n",
    "import os\n",
    "import scipy\n",
    "import random\n",
    "import cv2"
   ]
  },
  {
   "cell_type": "code",
   "execution_count": null,
   "id": "3eb7434c",
   "metadata": {},
   "outputs": [],
   "source": [
    "def make_prediction(src, model, show_image, expected_result):\n",
    "    correct = 0\n",
    "    incorrect = 0\n",
    "    for root, subdirs, files in os.walk(src):\n",
    "        for images in files:\n",
    "            img = cv2.imread(root+images, cv2.IMREAD_UNCHANGED)[:, :, ::-1]\n",
    "            img = cv2.resize(img, (img_height, img_width), interpolation=cv2.INTER_LINEAR)\n",
    "            img = cv2.rotate(img, cv2.ROTATE_90_CLOCKWISE)\n",
    "            if(show_image):\n",
    "                plt.imshow(img.astype(\"uint8\"))\n",
    "                plt.show()\n",
    "            #img = np.array(img).astype('float32')\n",
    "            #img = img / 255.0\n",
    "            X_to_predict = np.expand_dims(img, axis=0)\n",
    "            y_pred = model.predict(X_to_predict)[0]\n",
    "            prediction_class = y_pred.argmax()\n",
    "            prediction_confidence = y_pred[prediction_class]\n",
    "            \n",
    "            print(prediction_class)\n",
    "            print(prediction_confidence)\n",
    "            print(class_names[prediction_class])\n",
    "            print(y_pred)\n",
    "            \n",
    "            if prediction_class == expected_result:\n",
    "                correct = correct + 1\n",
    "            else:\n",
    "                incorrect = incorrect + 1\n",
    "    print(f\"Poprawne: {correct}, niepoprawne: {incorrect}\")\n",
    "\n",
    "print(class_names)"
   ]
  },
  {
   "cell_type": "code",
   "execution_count": null,
   "id": "90aee2bc",
   "metadata": {},
   "outputs": [],
   "source": [
    "def check_prediction(src, class_directories, model):\n",
    "    for index, class_dirs in enumerate(class_directories):\n",
    "        for directory_name in class_dirs:\n",
    "            full_dir_name = \"{src}{dir}\".format(src=src, dir = directory_name)\n",
    "            print(\"Sprawdzanie folderu '{dir_name}' jako '{class_name}'\".format(dir_name = full_dir_name, class_name = class_names[index]))\n",
    "            class_images = 0\n",
    "            class_correct_images = 0\n",
    "            for root, subdirs, files in os.walk(full_dir_name):\n",
    "                for images in files:\n",
    "                    img = cv2.imread(root+images, cv2.IMREAD_UNCHANGED)[:, :, ::-1]\n",
    "                    img = cv2.resize(img, (img_height, img_width), interpolation=cv2.INTER_LINEAR)\n",
    "                    img = cv2.rotate(img, cv2.ROTATE_90_CLOCKWISE)\n",
    "                    #img = np.array(img).astype('float32')\n",
    "                    #img = img / 255.0\n",
    "                    X_to_predict = np.expand_dims(img, axis=0)\n",
    "                    y_pred = model.predict(X_to_predict)\n",
    "                    prediction_class = y_pred.argmax()\n",
    "\n",
    "                    if(prediction_class == index):\n",
    "                        class_correct_images = class_correct_images + 1\n",
    "                    class_images = class_images + 1\n",
    "\n",
    "            print(\"{correct} na {total_images} było poprawny\".format(correct = class_correct_images, total_images = class_images))"
   ]
  },
  {
   "cell_type": "code",
   "execution_count": null,
   "id": "2ebefc36",
   "metadata": {},
   "outputs": [],
   "source": []
  }
 ],
 "metadata": {
  "kernelspec": {
   "display_name": "Python 3 (ipykernel)",
   "language": "python",
   "name": "python3"
  },
  "language_info": {
   "codemirror_mode": {
    "name": "ipython",
    "version": 3
   },
   "file_extension": ".py",
   "mimetype": "text/x-python",
   "name": "python",
   "nbconvert_exporter": "python",
   "pygments_lexer": "ipython3",
   "version": "3.8.10"
  }
 },
 "nbformat": 4,
 "nbformat_minor": 5
}
