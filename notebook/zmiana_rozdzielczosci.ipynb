{
 "cells": [
  {
   "cell_type": "code",
   "execution_count": 2,
   "metadata": {},
   "outputs": [],
   "source": [
    "import cv2\n",
    "import os\n",
    "import shutil"
   ]
  },
  {
   "cell_type": "code",
   "execution_count": 8,
   "metadata": {},
   "outputs": [],
   "source": [
    "img_width, img_height = 416, 416"
   ]
  },
  {
   "cell_type": "code",
   "execution_count": 9,
   "metadata": {},
   "outputs": [
    {
     "name": "stdout",
     "output_type": "stream",
     "text": [
      "0\n"
     ]
    }
   ],
   "source": [
    "def resize_dataset():\n",
    "    resized_images = 0\n",
    "\n",
    "    directory = \"../dataset/train_images/\"\n",
    "    processed_path = os.path.join(\"../dataset/train_images_resized/\")\n",
    "    if os.path.exists(processed_path):\n",
    "        shutil.rmtree(processed_path)\n",
    "    os.mkdir(processed_path)\n",
    "    for root, subdirs, files in os.walk(directory):\n",
    "        print(resized_images)\n",
    "        for image in files:\n",
    "            img = cv2.imread(root+\"/\"+image)\n",
    "            #img = cv2.rotate(img, cv2.ROTATE_90_CLOCKWISE)\n",
    "            img = cv2.resize(img, (img_width, img_height))\n",
    "            cv2.imwrite(processed_path + '/' + image, img);\n",
    "            resized_images = resized_images + 1\n",
    "                \n",
    "resize_dataset()"
   ]
  },
  {
   "cell_type": "code",
   "execution_count": null,
   "metadata": {},
   "outputs": [],
   "source": []
  }
 ],
 "metadata": {
  "kernelspec": {
   "display_name": "Python 3",
   "language": "python",
   "name": "python3"
  },
  "language_info": {
   "codemirror_mode": {
    "name": "ipython",
    "version": 3
   },
   "file_extension": ".py",
   "mimetype": "text/x-python",
   "name": "python",
   "nbconvert_exporter": "python",
   "pygments_lexer": "ipython3",
   "version": "3.8.10"
  }
 },
 "nbformat": 4,
 "nbformat_minor": 2
}
