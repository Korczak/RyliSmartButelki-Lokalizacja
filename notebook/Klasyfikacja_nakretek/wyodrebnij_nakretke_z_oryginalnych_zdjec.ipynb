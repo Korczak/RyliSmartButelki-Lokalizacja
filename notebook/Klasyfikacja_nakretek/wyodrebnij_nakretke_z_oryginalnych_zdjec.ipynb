{
 "cells": [
  {
   "cell_type": "code",
   "execution_count": 1,
   "metadata": {},
   "outputs": [],
   "source": [
    "import xml.etree.ElementTree as ET\n",
    "import os\n",
    "from glob import glob\n",
    "import cv2\n",
    "import matplotlib.pyplot as plt"
   ]
  },
  {
   "cell_type": "code",
   "execution_count": 2,
   "metadata": {},
   "outputs": [
    {
     "name": "stdout",
     "output_type": "stream",
     "text": [
      "num classes: 2\n"
     ]
    }
   ],
   "source": [
    "XML_PATH = '../../dataset/tymczasowy2/'\n",
    "IMAGE_PATH = '../../dataset/tymczasowy/'\n",
    "\n",
    "CLASSES_PATH = '../../class_names/butelka_classes.txt'\n",
    "DEST_PATH = '../../dataset/tymczasowy3'\n",
    "\n",
    "'''loads the classes'''\n",
    "def get_classes(classes_path):\n",
    "    with open(classes_path) as f:\n",
    "        class_names = f.readlines()\n",
    "    class_names = [c.strip() for c in class_names]\n",
    "    return class_names\n",
    "\n",
    "\n",
    "classes = get_classes(CLASSES_PATH)\n",
    "assert len(classes) > 0, 'no class names detected!'\n",
    "print(f'num classes: {len(classes)}')\n"
   ]
  },
  {
   "cell_type": "code",
   "execution_count": 3,
   "metadata": {},
   "outputs": [],
   "source": [
    "def convert_xmls(directory, num_files=None):\n",
    "    num_files_converted = 0\n",
    "    \n",
    "    try:\n",
    "        os.mkdir(os.path.join(DEST_PATH, directory))\n",
    "    except OSError as error:\n",
    "        print(error)    \n",
    "    \n",
    "    processed_images = glob(os.path.join(DEST_PATH, directory, '*'))\n",
    "        \n",
    "    for path in glob(os.path.join(XML_PATH, directory, '*.xml')):\n",
    "        if(num_files != None and num_files_converted >= num_files):\n",
    "            break\n",
    "        in_file = open(path)\n",
    "\n",
    "        # Parse .xml file\n",
    "        tree = ET.parse(in_file)\n",
    "        root = tree.getroot()\n",
    "        # Write object information to .txt file\n",
    "        \n",
    "        file_name = root.find('filename').text\n",
    "        print(file_name)\n",
    "        image_name = path.split('/')[-1].split('.')[0]\n",
    "        dest_path = os.path.join(DEST_PATH, directory, image_name + \".JPG\") \n",
    "        \n",
    "        if(dest_path in processed_images):\n",
    "            continue\n",
    "        try:\n",
    "            obj = next(root.iter('object'))\n",
    "            cls = obj.find('name').text \n",
    "            cls_id = classes.index(cls)\n",
    "            xmlbox = obj.find('bndbox')\n",
    "            b = (int(xmlbox.find('xmin').text), int(xmlbox.find('ymin').text), int(xmlbox.find('xmax').text), int(xmlbox.find('ymax').text))\n",
    "            img = cv2.imread(os.path.join(IMAGE_PATH, directory, file_name), cv2.IMREAD_UNCHANGED)\n",
    "            if(img.shape[0] < img.shape[1]):\n",
    "                img = cv2.rotate(img, cv2.ROTATE_90_CLOCKWISE)\n",
    "            \n",
    "            b = [int(bound * 3024/312) for bound in b]\n",
    "            img = img[b[1]:b[3], b[0]:b[2]]\n",
    "            \n",
    "            cv2.imwrite(os.path.join(DEST_PATH, directory, file_name), img)\n",
    "        \n",
    "            num_files_converted = num_files_converted + 1\n",
    "        except Exception as error:\n",
    "            print(error)"
   ]
  },
  {
   "cell_type": "code",
   "execution_count": 10,
   "metadata": {},
   "outputs": [],
   "source": [
    "dirs = ['prawidlowa']"
   ]
  },
  {
   "cell_type": "code",
   "execution_count": 12,
   "metadata": {
    "scrolled": true
   },
   "outputs": [
    {
     "name": "stdout",
     "output_type": "stream",
     "text": [
      "[Errno 17] File exists: '../../dataset/tymczasowy3/prawidlowa'\n",
      "IMG_3948.JPG\n"
     ]
    }
   ],
   "source": [
    "for dir in dirs:\n",
    "    convert_xmls(dir)"
   ]
  },
  {
   "cell_type": "code",
   "execution_count": 6,
   "metadata": {},
   "outputs": [],
   "source": [
    "b = (5, 123, 5, 11)"
   ]
  },
  {
   "cell_type": "code",
   "execution_count": 7,
   "metadata": {},
   "outputs": [
    {
     "data": {
      "text/plain": [
       "(5, 123, 5, 11)"
      ]
     },
     "execution_count": 7,
     "metadata": {},
     "output_type": "execute_result"
    }
   ],
   "source": [
    "b"
   ]
  },
  {
   "cell_type": "code",
   "execution_count": 5,
   "metadata": {},
   "outputs": [],
   "source": [
    "b = [bound * 3024/312 for bound in b]"
   ]
  },
  {
   "cell_type": "code",
   "execution_count": 6,
   "metadata": {},
   "outputs": [
    {
     "data": {
      "text/plain": [
       "[48.46153846153846, 1192.1538461538462, 48.46153846153846, 106.61538461538461]"
      ]
     },
     "execution_count": 6,
     "metadata": {},
     "output_type": "execute_result"
    }
   ],
   "source": [
    "b"
   ]
  }
 ],
 "metadata": {
  "kernelspec": {
   "display_name": "Python 3 (ipykernel)",
   "language": "python",
   "name": "python3"
  },
  "language_info": {
   "codemirror_mode": {
    "name": "ipython",
    "version": 3
   },
   "file_extension": ".py",
   "mimetype": "text/x-python",
   "name": "python",
   "nbconvert_exporter": "python",
   "pygments_lexer": "ipython3",
   "version": "3.8.10"
  }
 },
 "nbformat": 4,
 "nbformat_minor": 2
}
